{
  "nbformat": 4,
  "nbformat_minor": 0,
  "metadata": {
    "colab": {
      "provenance": [],
      "include_colab_link": true
    },
    "kernelspec": {
      "name": "python3",
      "display_name": "Python 3"
    },
    "language_info": {
      "name": "python"
    }
  },
  "cells": [
    {
      "cell_type": "markdown",
      "metadata": {
        "id": "view-in-github",
        "colab_type": "text"
      },
      "source": [
        "<a href=\"https://colab.research.google.com/github/Shivukumarmh/VAAYU-Drug-Discovery-and-inventory-Management/blob/main/drug_demand_forecasting.ipynb\" target=\"_parent\"><img src=\"https://colab.research.google.com/assets/colab-badge.svg\" alt=\"Open In Colab\"/></a>"
      ]
    },
    {
      "cell_type": "code",
      "execution_count": null,
      "metadata": {
        "id": "NP_KWOSM3MBQ"
      },
      "outputs": [],
      "source": [
        "import requests\n",
        "import pandas as pd\n",
        "\n",
        "# Define the ChEMBL API endpoint\n",
        "base_url = 'https://www.ebi.ac.uk/chembl/api/data'\n",
        "\n",
        "# Define a function to fetch data using ChEMBL API\n",
        "def fetch_chembl_data(chembl_id):\n",
        "    url = f'{base_url}/molecule/{chembl_id}'\n",
        "    response = requests.get(url, headers={'Content-Type': 'application/json'})\n",
        "\n",
        "    if response.status_code == 200:\n",
        "        return response.json()\n",
        "    else:\n",
        "        print(f\"Failed to retrieve data for {chembl_id}\")\n",
        "        return None\n",
        "\n",
        "# Example ChEMBL IDs\n",
        "chembl_ids = ['CHEMBL25', 'CHEMBL502', 'CHEMBL1201575']\n",
        "\n",
        "# Fetch and store data for each ChEMBL ID\n",
        "chembl_data = []\n",
        "for chembl_id in chembl_ids:\n",
        "    data = fetch_chembl_data(chembl_id)\n",
        "    if data:\n",
        "        chembl_data.append(data)\n",
        "\n",
        "# Convert the data to a pandas DataFrame for easier analysis\n",
        "df = pd.DataFrame(chembl_data)\n",
        "print(df.head())\n"
      ]
    },
    {
      "cell_type": "code",
      "source": [
        "from sklearn.model_selection import train_test_split\n",
        "from sklearn.ensemble import RandomForestRegressor\n",
        "from sklearn.preprocessing import LabelEncoder\n",
        "from sklearn.metrics import r2_score, mean_squared_error\n",
        "\n",
        "# Simulated Data (Replace with actual data from ChEMBL API)\n",
        "data = {\n",
        "    'ChEMBL_ID': ['CHEMBL25', 'CHEMBL502', 'CHEMBL1201575'],\n",
        "    'Molecular Weight': [450.3, 350.2, 500.1],\n",
        "    'LogP': [2.5, 3.1, 2.9],\n",
        "    'Patients (in millions)': [523, 96, 11.3],\n",
        "    'Historical Demand (in millions)': [500, 90, 10],\n",
        "    'Economic Factor': [1.2, 1.3, 1.1],\n",
        "    'Drug Availability': [0.8, 0.9, 1.1]\n",
        "}\n",
        "\n",
        "# Create DataFrame\n",
        "df = pd.DataFrame(data)\n",
        "\n",
        "# Label encode the ChEMBL_ID\n",
        "label_encoder = LabelEncoder()\n",
        "df['ChEMBL_ID_encoded'] = label_encoder.fit_transform(df['ChEMBL_ID'])\n",
        "\n",
        "# Define features (X) and target (y)\n",
        "X = df[['ChEMBL_ID_encoded', 'Molecular Weight', 'LogP', 'Patients (in millions)', 'Economic Factor', 'Drug Availability']]\n",
        "y = df['Historical Demand (in millions)']\n",
        "\n",
        "# Train-test split\n",
        "X_train, X_test, y_train, y_test = train_test_split(X, y, test_size=0.2, random_state=42)\n",
        "\n",
        "# Initialize and train the Random Forest Regressor\n",
        "model = RandomForestRegressor(n_estimators=100, random_state=42)\n",
        "model.fit(X_train, y_train)\n",
        "\n",
        "# Predict on the test set\n",
        "y_pred = model.predict(X_test)\n",
        "\n",
        "# Evaluate the model\n",
        "r2 = r2_score(y_test, y_pred)\n",
        "mse = mean_squared_error(y_test, y_pred)\n",
        "\n",
        "print(f\"R-squared Score: {r2}\")\n",
        "print(f\"Mean Squared Error: {mse}\")\n"
      ],
      "metadata": {
        "id": "UNjGZWHV34ma"
      },
      "execution_count": null,
      "outputs": []
    },
    {
      "cell_type": "code",
      "source": [
        "from sklearn.model_selection import train_test_split\n",
        "from sklearn.ensemble import RandomForestRegressor\n",
        "from sklearn.preprocessing import LabelEncoder\n",
        "from sklearn.metrics import r2_score, mean_squared_error\n",
        "\n",
        "# Simulated Data (Replace with actual data from ChEMBL API)\n",
        "data = {\n",
        "    'ChEMBL_ID': ['CHEMBL25', 'CHEMBL502', 'CHEMBL1201575'],\n",
        "    'Molecular Weight': [450.3, 350.2, 500.1],\n",
        "    'LogP': [2.5, 3.1, 2.9],\n",
        "    'Patients (in millions)': [523, 96, 11.3],\n",
        "    'Historical Demand (in millions)': [500, 90, 10],\n",
        "    'Economic Factor': [1.2, 1.3, 1.1],\n",
        "    'Drug Availability': [0.8, 0.9, 1.1]\n",
        "}\n",
        "\n",
        "# Create DataFrame\n",
        "df = pd.DataFrame(data)\n",
        "\n",
        "# Label encode the ChEMBL_ID\n",
        "label_encoder = LabelEncoder()\n",
        "df['ChEMBL_ID_encoded'] = label_encoder.fit_transform(df['ChEMBL_ID'])\n",
        "\n",
        "# Define features (X) and target (y)\n",
        "X = df[['ChEMBL_ID_encoded', 'Molecular Weight', 'LogP', 'Patients (in millions)', 'Economic Factor', 'Drug Availability']]\n",
        "y = df['Historical Demand (in millions)']\n",
        "\n",
        "# Train-test split\n",
        "X_train, X_test, y_train, y_test = train_test_split(X, y, test_size=0.2, random_state=42)\n",
        "\n",
        "# Initialize and train the Random Forest Regressor\n",
        "model = RandomForestRegressor(n_estimators=100, random_state=42)\n",
        "model.fit(X_train, y_train)\n",
        "\n",
        "# Predict on the test set\n",
        "y_pred = model.predict(X_test)\n",
        "\n",
        "# Evaluate the model\n",
        "r2 = r2_score(y_test, y_pred)\n",
        "mse = mean_squared_error(y_test, y_pred)\n",
        "\n",
        "print(f\"R-squared Score: {r2}\")\n",
        "print(f\"Mean Squared Error: {mse}\")\n"
      ],
      "metadata": {
        "id": "Zk2jtUAy3-gS"
      },
      "execution_count": null,
      "outputs": []
    },
    {
      "cell_type": "code",
      "source": [
        "# Example new drug data for future prediction\n",
        "new_data = {\n",
        "    'ChEMBL_ID': ['CHEMBL1215'],  # New ChEMBL ID\n",
        "    'Molecular Weight': [480.5],\n",
        "    'LogP': [3.0],\n",
        "    'Patients (in millions)': [600],\n",
        "    'Economic Factor': [1.1],\n",
        "    'Drug Availability': [1.0]\n",
        "}\n",
        "\n",
        "# Create a DataFrame for the new data\n",
        "new_df = pd.DataFrame(new_data)\n",
        "\n",
        "# Encode the ChEMBL ID\n",
        "new_df['ChEMBL_ID_encoded'] = label_encoder.transform(new_df['ChEMBL_ID'])\n",
        "\n",
        "# Select Features\n",
        "X_new = new_df[['ChEMBL_ID_encoded', 'Molecular Weight', 'LogP', 'Patients (in millions)', 'Economic Factor', 'Drug Availability']]\n",
        "\n",
        "# Predict the drug demand\n",
        "future_demand = model.predict(X_new)\n",
        "print(f\"Predicted Drug Demand for new data: {future_demand[0]} million\")\n"
      ],
      "metadata": {
        "id": "_LXO9v1Y4Bw-"
      },
      "execution_count": null,
      "outputs": []
    }
  ]
}